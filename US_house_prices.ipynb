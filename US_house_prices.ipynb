{
  "nbformat": 4,
  "nbformat_minor": 0,
  "metadata": {
    "colab": {
      "provenance": []
    },
    "kernelspec": {
      "name": "python3",
      "display_name": "Python 3"
    },
    "language_info": {
      "name": "python"
    }
  },
  "cells": [
    {
      "cell_type": "markdown",
      "source": [
        "# 1. Data Collection and Preparation"
      ],
      "metadata": {
        "id": "T2vwDTwg89mz"
      }
    },
    {
      "cell_type": "code",
      "execution_count": 1,
      "metadata": {
        "id": "Msh8gLl584Nj"
      },
      "outputs": [],
      "source": [
        "import pandas as pd\n",
        "import math\n",
        "import matplotlib.pyplot as plt\n",
        "import seaborn as sns\n",
        "from sklearn.model_selection import train_test_split\n",
        "from sklearn.linear_model import LinearRegression\n",
        "from sklearn.ensemble import RandomForestRegressor, GradientBoostingRegressor\n",
        "from sklearn.tree import DecisionTreeRegressor\n",
        "from xgboost import XGBRegressor\n",
        "from sklearn.metrics import mean_squared_error, r2_score\n",
        "import requests\n",
        "from io import StringIO"
      ]
    },
    {
      "cell_type": "code",
      "source": [
        "from google.colab import userdata\n",
        "api_key = userdata.get('api_key')\n",
        "\n",
        "# Function to fetch data from FRED\n",
        "def fetch_fred_data(series_id):\n",
        "  url = f'https://api.stlouisfed.org/fred/series/observations?series_id={series_id}&api_key={api_key}&file_type=csv'\n",
        "  response = requests.get(url)\n",
        "  data = pd.read_csv(StringIO(response.text), parse_dates=['date'])\n",
        "  return data"
      ],
      "metadata": {
        "id": "yDPq2Su-9KQD"
      },
      "execution_count": 2,
      "outputs": []
    },
    {
      "cell_type": "code",
      "source": [
        "from google.colab import userdata\n",
        "api_key = userdata.get('api_key')\n",
        "\n",
        "def fetch_fred_data(series_id, api_key, column_name):\n",
        "    url = f'https://api.stlouisfed.org/fred/series/observations?series_id={series_id}&api_key={api_key}&file_type=json'\n",
        "\n",
        "    response = requests.get(url)\n",
        "    if response.status_code != 200:\n",
        "        raise ValueError(f\"Error fetching data from FRED: {response.status_code}\")\n",
        "\n",
        "    data = response.json()\n",
        "    observations = data['observations']\n",
        "    df = pd.DataFrame(observations)\n",
        "\n",
        "    if 'date' in df.columns:\n",
        "        df['date'] = pd.to_datetime(df['date'])\n",
        "    else:\n",
        "        raise ValueError(\"Missing 'date' column in the fetched data\")\n",
        "\n",
        "    df['value'] = pd.to_numeric(df['value'], errors='coerce')  # Convert to numeric, coercing errors to NaN\n",
        "    df.dropna(subset=['value'], inplace=True)  # Drop rows where 'value' could not be converted\n",
        "\n",
        "    return df[['date', 'value']].rename(columns={'value': column_name})\n",
        "\n",
        "\n",
        "# Dictionary of series IDs and their descriptive column names\n",
        "series_dict = {\n",
        "    'CSUSHPINSA': 'Case_Shiller_Home_Price_Index',\n",
        "    'UNRATE': 'Unemployment_Rate',\n",
        "    'CPIAUCSL': 'Inflation',\n",
        "    'GDP': 'Gross_Domestic_Product',\n",
        "    'MORTGAGE30US': '30_Year_Fixed_Mortgage_Rate',\n",
        "    'MEHOINUSA672N': 'Median_Household_Income',\n",
        "    'HOUST': 'Housing_Starts',\n",
        "    'POPTHM':'Population',\n",
        "    'FEDFUNDS': 'Interest_rates'\n",
        "}\n",
        "\n",
        "# Fetch data for each series and merge into a single DataFrame\n",
        "dataframes = []\n",
        "for series_id, column_name in series_dict.items():\n",
        "    df = fetch_fred_data(series_id, api_key, column_name)\n",
        "    dataframes.append(df)\n",
        "\n",
        "# Merge all DataFrames on the 'date' column\n",
        "combined_df = dataframes[0]\n",
        "for df in dataframes[1:]:\n",
        "    combined_df = combined_df.merge(df, on='date', how='outer')\n",
        "\n",
        "# Handle missing values by forward filling\n",
        "combined_df.ffill(inplace=True)\n",
        "\n",
        "# Handle missing values if necessary\n",
        "combined_df = combined_df.dropna()"
      ],
      "metadata": {
        "id": "hYu2aPZU9neK"
      },
      "execution_count": 3,
      "outputs": []
    },
    {
      "cell_type": "markdown",
      "source": [
        "# 2. Model Building"
      ],
      "metadata": {
        "id": "lgHNJH0gBLFq"
      }
    },
    {
      "cell_type": "code",
      "source": [
        "# Splitting the data into training and testing sets\n",
        "X = combined_df.drop(columns=['date', 'Case_Shiller_Home_Price_Index'])\n",
        "y = combined_df['Case_Shiller_Home_Price_Index']\n",
        "\n",
        "X_train, X_test, y_train, y_test = train_test_split(X, y, test_size=0.2, random_state=42)\n",
        "\n",
        "print(\"Training data shape:\", X_train.shape)\n",
        "print(\"Testing data shape:\", X_test.shape)"
      ],
      "metadata": {
        "colab": {
          "base_uri": "https://localhost:8080/"
        },
        "id": "O5mJoU_JBNiH",
        "outputId": "be2ef40c-2b44-45b4-d852-a4e928d5855c"
      },
      "execution_count": 4,
      "outputs": [
        {
          "output_type": "stream",
          "name": "stdout",
          "text": [
            "Training data shape: (2892, 8)\n",
            "Testing data shape: (724, 8)\n"
          ]
        }
      ]
    },
    {
      "cell_type": "markdown",
      "source": [
        "## 1. Linear Regression Model"
      ],
      "metadata": {
        "id": "IKM0gZrCOoch"
      }
    },
    {
      "cell_type": "code",
      "source": [
        "# Initialize and train the linear regression model\n",
        "linear_model = LinearRegression()\n",
        "linear_model.fit(X_train, y_train)\n",
        "\n",
        "# Predict on the test set\n",
        "y_pred = linear_model.predict(X_test)\n",
        "\n",
        "# Evaluate the linear regression model\n",
        "mse_linear = mean_squared_error(y_test, y_pred)\n",
        "r2_linear = r2_score(y_test, y_pred)\n",
        "rmse_linear = math.sqrt(mse_linear)\n",
        "\n",
        "print(f\"Mean Squared Error: {mse_linear}\")\n",
        "print(f\"R-squared: {r2_linear}\")\n",
        "print(f\"Root Mean Squared Error: {rmse_linear}\")"
      ],
      "metadata": {
        "colab": {
          "base_uri": "https://localhost:8080/"
        },
        "id": "POuWbXp5OgLK",
        "outputId": "52b04435-0345-4a99-85d1-b374001ccb8b"
      },
      "execution_count": 5,
      "outputs": [
        {
          "output_type": "stream",
          "name": "stdout",
          "text": [
            "Mean Squared Error: 1363.1730054704492\n",
            "R-squared: 0.6820660501606239\n",
            "Root Mean Squared Error: 36.92117286152282\n"
          ]
        }
      ]
    },
    {
      "cell_type": "markdown",
      "source": [
        "## 2. Random Forest Regression Model"
      ],
      "metadata": {
        "id": "Obz_B8B8QQq3"
      }
    },
    {
      "cell_type": "code",
      "source": [
        "# Initialize and train the Random Forest Regression model\n",
        "rf_model = RandomForestRegressor(n_estimators=100, random_state=42)\n",
        "rf_model.fit(X_train, y_train)\n",
        "\n",
        "# Predict on the test set\n",
        "y_pred = rf_model.predict(X_test)\n",
        "\n",
        "# Evaluate the Random Forest Regression model\n",
        "mse_rf = mean_squared_error(y_test, y_pred)\n",
        "r2_rf = r2_score(y_test, y_pred)\n",
        "rmse_rf = math.sqrt(mse_rf)\n",
        "\n",
        "print(f\"Mean Squared Error: {mse_rf}\")\n",
        "print(f\"R-squared: {r2_rf}\")\n",
        "print(f\"Root Mean Squared Error: {rmse_rf}\")"
      ],
      "metadata": {
        "colab": {
          "base_uri": "https://localhost:8080/"
        },
        "id": "ivPIHUfJQau7",
        "outputId": "546e0a9a-a213-4ec3-f785-e432bc110d12"
      },
      "execution_count": 6,
      "outputs": [
        {
          "output_type": "stream",
          "name": "stdout",
          "text": [
            "Mean Squared Error: 1.1663734787178766\n",
            "R-squared: 0.9997279657640017\n",
            "Root Mean Squared Error: 1.0799877215588503\n"
          ]
        }
      ]
    },
    {
      "cell_type": "markdown",
      "source": [
        "## 3. Decision Tree Regression Model"
      ],
      "metadata": {
        "id": "WRWhW-apTkwn"
      }
    },
    {
      "cell_type": "code",
      "source": [
        "# Initialize and train the Decision Tree Regression model\n",
        "dt_model = DecisionTreeRegressor(random_state=42)\n",
        "dt_model.fit(X_train, y_train)\n",
        "\n",
        "# Predict on the test set\n",
        "y_pred_dt = dt_model.predict(X_test)\n",
        "\n",
        "# Evaluate the Decision Tree Regression model\n",
        "mse_dt = mean_squared_error(y_test, y_pred_dt)\n",
        "r2_dt = r2_score(y_test, y_pred_dt)\n",
        "rmse_dt = math.sqrt(mse_dt)\n",
        "\n",
        "print(f\"Mean Squared Error: {mse_dt}\")\n",
        "print(f\"R-squared: {r2_dt}\")\n",
        "print(f\"Root Mean Squared Error: {rmse_dt}\")"
      ],
      "metadata": {
        "colab": {
          "base_uri": "https://localhost:8080/"
        },
        "id": "zec7pqy-Tnt4",
        "outputId": "0a5f8f89-5ee4-40ee-f7dd-de7aaa877dc7"
      },
      "execution_count": 7,
      "outputs": [
        {
          "output_type": "stream",
          "name": "stdout",
          "text": [
            "Mean Squared Error: 1.500401243093923\n",
            "R-squared: 0.9996500601965808\n",
            "Root Mean Squared Error: 1.2249086672458167\n"
          ]
        }
      ]
    },
    {
      "cell_type": "markdown",
      "source": [
        "## 4. Gradient Boost Regression Model"
      ],
      "metadata": {
        "id": "vv5ExznYXxXj"
      }
    },
    {
      "cell_type": "code",
      "source": [
        "# Initialize and train the Gradient Boosting Regression model\n",
        "gb_model = GradientBoostingRegressor(n_estimators=100, random_state=42)\n",
        "gb_model.fit(X_train, y_train)\n",
        "\n",
        "# Predict on the test set\n",
        "y_pred_gb = gb_model.predict(X_test)\n",
        "\n",
        "# Evaluate the Gradient Boosting Regression model\n",
        "mse_gb = mean_squared_error(y_test, y_pred_gb)\n",
        "r2_gb = r2_score(y_test, y_pred_gb)\n",
        "rmse_gb = math.sqrt(mse_gb)\n",
        "\n",
        "print(f\"Mean Squared Error: {mse_gb}\")\n",
        "print(f\"R-squared: {r2_gb}\")\n",
        "print(f\"Root Mean Squared Error: {rmse_gb}\")"
      ],
      "metadata": {
        "colab": {
          "base_uri": "https://localhost:8080/"
        },
        "id": "Xswl3EqeULX0",
        "outputId": "928d56cc-a1c6-4cf9-94a3-754e447e36d6"
      },
      "execution_count": 8,
      "outputs": [
        {
          "output_type": "stream",
          "name": "stdout",
          "text": [
            "Mean Squared Error: 1.1964166349100058\n",
            "R-squared: 0.9997209587742245\n",
            "Root Mean Squared Error: 1.0938083172613042\n"
          ]
        }
      ]
    },
    {
      "cell_type": "markdown",
      "source": [
        "## 5. XGBoost Regression Model"
      ],
      "metadata": {
        "id": "3RYXvxd2a0RB"
      }
    },
    {
      "cell_type": "code",
      "source": [
        "# Initialize and train the XGBoost Regression model\n",
        "xgb_model = XGBRegressor(n_estimators=100, random_state=42)\n",
        "xgb_model.fit(X_train, y_train)\n",
        "\n",
        "# Predict on the test set\n",
        "y_pred_xgb = xgb_model.predict(X_test)\n",
        "\n",
        "# Evaluate the XGBoost Regression model\n",
        "mse_xgb = mean_squared_error(y_test, y_pred_xgb)\n",
        "r2_xgb = r2_score(y_test, y_pred_xgb)\n",
        "rmse_xgb = math.sqrt(mse_xgb)\n",
        "\n",
        "print(f\"Mean Squared Error: {mse_xgb}\")\n",
        "print(f\"R-squared: {r2_xgb}\")\n",
        "print(f\"Root Mean Squared Error: {rmse_xgb}\")"
      ],
      "metadata": {
        "colab": {
          "base_uri": "https://localhost:8080/"
        },
        "id": "-Xa6Bv_3ji6T",
        "outputId": "545010c1-649b-456f-ef01-9a21d327c2cd"
      },
      "execution_count": 9,
      "outputs": [
        {
          "output_type": "stream",
          "name": "stdout",
          "text": [
            "Mean Squared Error: 1.6676592578760083\n",
            "R-squared: 0.9996110504736266\n",
            "Root Mean Squared Error: 1.2913788204380652\n"
          ]
        }
      ]
    },
    {
      "cell_type": "code",
      "source": [
        "from tabulate import tabulate\n",
        "\n",
        "# Store results\n",
        "results = [\n",
        "    {\"Model\": \"Linear Regression\", \"Mean Squared Error\": mse_linear, \"R-squared\": r2_linear, \"Root Mean Squared Error\": rmse_linear},\n",
        "    {\"Model\": \"Random Forest Regression\", \"Mean Squared Error\": mse_rf, \"R-squared\": r2_rf, \"Root Mean Squared Error\": rmse_rf},\n",
        "    {\"Model\": \"Decision Tree Regression\", \"Mean Squared Error\": mse_dt, \"R-squared\": r2_dt, \"Root Mean Squared Error\": rmse_dt},\n",
        "    {\"Model\": \"Gradient Boosting Regression\", \"Mean Squared Error\": mse_gb, \"R-squared\": r2_gb, \"Root Mean Squared Error\": rmse_gb},\n",
        "    {\"Model\": \"XGBoost Regression\", \"Mean Squared Error\": mse_xgb, \"R-squared\": r2_xgb, \"Root Mean Squared Error\": rmse_xgb}\n",
        "]\n",
        "\n",
        "# Print the tabular representation\n",
        "print(tabulate(results, headers=\"keys\", tablefmt=\"grid\"))"
      ],
      "metadata": {
        "colab": {
          "base_uri": "https://localhost:8080/"
        },
        "id": "GK51VFa1lLCr",
        "outputId": "c714f6d6-d383-49df-eb90-8e04e905164a"
      },
      "execution_count": 10,
      "outputs": [
        {
          "output_type": "stream",
          "name": "stdout",
          "text": [
            "+------------------------------+----------------------+-------------+---------------------------+\n",
            "| Model                        |   Mean Squared Error |   R-squared |   Root Mean Squared Error |\n",
            "+==============================+======================+=============+===========================+\n",
            "| Linear Regression            |           1363.17    |    0.682066 |                  36.9212  |\n",
            "+------------------------------+----------------------+-------------+---------------------------+\n",
            "| Random Forest Regression     |              1.16637 |    0.999728 |                   1.07999 |\n",
            "+------------------------------+----------------------+-------------+---------------------------+\n",
            "| Decision Tree Regression     |              1.5004  |    0.99965  |                   1.22491 |\n",
            "+------------------------------+----------------------+-------------+---------------------------+\n",
            "| Gradient Boosting Regression |              1.19642 |    0.999721 |                   1.09381 |\n",
            "+------------------------------+----------------------+-------------+---------------------------+\n",
            "| XGBoost Regression           |              1.66766 |    0.999611 |                   1.29138 |\n",
            "+------------------------------+----------------------+-------------+---------------------------+\n"
          ]
        }
      ]
    },
    {
      "cell_type": "markdown",
      "source": [
        "## Conclusion\n",
        "\n",
        "The Random Forest Regression model performs the best, with the lowest RMSE and the highest R² score, indicating it has the highest predictive accuracy and best fits the data among the models evaluated. Gradient Boosting and XGBoost also perform well but are slightly outperformed by the Random Forest model. Decision Tree Regression is slightly less accurate but still performs well. Linear Regression, however, performs poorly compared to the other models."
      ],
      "metadata": {
        "id": "e-TiP-TIzcGF"
      }
    },
    {
      "cell_type": "markdown",
      "source": [
        "# 3. Analyze the results"
      ],
      "metadata": {
        "id": "-4H59Pi80LWw"
      }
    },
    {
      "cell_type": "code",
      "source": [
        "# Linear Model Coefficients\n",
        "coefficients = pd.DataFrame({'Feature': X_train.columns, 'Coefficient': linear_model.coef_})\n",
        "pd.set_option('display.max_rows', None)\n",
        "print(coefficients.sort_values(by='Coefficient', ascending=False))"
      ],
      "metadata": {
        "colab": {
          "base_uri": "https://localhost:8080/"
        },
        "id": "kSeietA3ywVv",
        "outputId": "7c4c55e5-983f-4638-8389-c49c17c9ea8e"
      },
      "execution_count": 11,
      "outputs": [
        {
          "output_type": "stream",
          "name": "stdout",
          "text": [
            "                       Feature  Coefficient\n",
            "0            Unemployment_Rate    12.523903\n",
            "7               Interest_rates     7.147636\n",
            "3  30_Year_Fixed_Mortgage_Rate     0.421221\n",
            "5               Housing_Starts     0.032224\n",
            "2       Gross_Domestic_Product     0.031409\n",
            "4      Median_Household_Income     0.002098\n",
            "6                   Population     0.000250\n",
            "1                    Inflation    -3.305662\n"
          ]
        }
      ]
    },
    {
      "cell_type": "markdown",
      "source": [
        "## Analysis\n",
        "\n",
        "**1. Unemployment Rate (12.523903):**\n",
        "\n",
        "For each one percentage point increase in the unemployment rate, home prices are expected to increase by 12.52 units, assuming all other factors remain constant. This positive coefficient is counterintuitive, as higher unemployment is generally associated with lower home prices. It suggests there might be other underlying factors or multicollinearity influencing this result.  \n",
        "\n",
        "**2. Interest Rates (7.147636):**\n",
        "\n",
        "For each one percentage point increase in interest rates, home prices are expected to increase by 7.15 units, assuming all other factors remain constant. This positive relationship might also seem counterintuitive, as higher interest rates usually lead to higher mortgage costs and lower affordability, typically resulting in lower home prices. Again, this could indicate complex interactions or multicollinearity among the variables.\n",
        "\n",
        "**3. 30-Year Fixed Mortgage Rate (0.421221):**\n",
        "\n",
        "For each one percentage point increase in the 30-year fixed mortgage rate, home prices are expected to increase by 0.42 units, assuming all other factors remain constant. This positive coefficient is also unexpected as higher mortgage rates generally reduce housing demand and prices.\n",
        "\n",
        "**4. Housing Starts (0.032224):**\n",
        "\n",
        "For each one unit increase in housing starts, home prices are expected to increase by 0.03 units, assuming all other factors remain constant. This suggests a small positive impact, indicating that more new housing construction is slightly associated with higher home prices.\n",
        "\n",
        "**5. Gross Domestic Product (GDP) (0.031409):**\n",
        "\n",
        "For each one unit increase in GDP, home prices are expected to increase by 0.03 units, assuming all other factors remain constant. This positive relationship is expected, as a growing economy often leads to higher incomes and increased demand for housing, driving up prices.\n",
        "\n",
        "**6.Median Household Income (0.002098):**\n",
        "\n",
        "For each one unit increase in median household income, home prices are expected to increase by 0.002 units, assuming all other factors remain constant. This positive coefficient aligns with expectations, as higher incomes generally increase housing affordability and demand, leading to higher prices.\n",
        "\n",
        "**7. Population (0.000250):**\n",
        "\n",
        "For each one unit increase in population, home prices are expected to increase by 0.00025 units, assuming all other factors remain constant. This very small positive impact indicates that population growth is associated with higher home prices, although the effect size is minimal.\n",
        "\n",
        "**8. Inflation (-3.305662):**\n",
        "\n",
        "For each one percentage point increase in inflation, home prices are expected to decrease by 3.31 units, assuming all other factors remain constant. This negative relationship can be explained by the fact that higher inflation often leads to higher interest rates, which can reduce housing demand and prices.\n",
        "\n",
        "\n",
        "## Summary\n",
        "Positive Coefficients: Unemployment Rate, Interest Rates, 30-Year Fixed Mortgage Rate, Housing Starts, GDP, Median Household Income, and Population. These indicate that as these factors increase, home prices tend to increase as well, though some of these relationships (like with unemployment rate and interest rates) are counterintuitive and may be influenced by underlying factors or multicollinearity.\n",
        "Negative Coefficient: Inflation. This suggests that higher inflation is associated with lower home prices, which can be due to the impact of inflation on interest rates and overall economic conditions."
      ],
      "metadata": {
        "id": "4C7x3TAQ6RaH"
      }
    },
    {
      "cell_type": "code",
      "source": [
        "# Feature Importances from Random Forest\n",
        "feature_importances = pd.DataFrame({'Feature': X_train.columns, 'Importance': rf_model.feature_importances_})\n",
        "print(feature_importances.sort_values(by='Importance', ascending=False))"
      ],
      "metadata": {
        "colab": {
          "base_uri": "https://localhost:8080/"
        },
        "id": "yVqfRSfd0SX2",
        "outputId": "498b76db-9e4a-4f3b-d916-578347d5c478"
      },
      "execution_count": 12,
      "outputs": [
        {
          "output_type": "stream",
          "name": "stdout",
          "text": [
            "                       Feature  Importance\n",
            "2       Gross_Domestic_Product    0.707402\n",
            "1                    Inflation    0.242806\n",
            "6                   Population    0.042090\n",
            "4      Median_Household_Income    0.005996\n",
            "0            Unemployment_Rate    0.001133\n",
            "7               Interest_rates    0.000382\n",
            "3  30_Year_Fixed_Mortgage_Rate    0.000141\n",
            "5               Housing_Starts    0.000050\n"
          ]
        }
      ]
    },
    {
      "cell_type": "markdown",
      "source": [
        "## Interpretation\n",
        "\n",
        "**1. Gross Domestic Product (GDP) - 0.707402:**\n",
        "\n",
        "* **Most Significant Predictor:** GDP is by far the most significant predictor of home prices, with an importance score of 0.707402. This suggests that as the overall economic health (measured by GDP) improves, home prices are likely to increase.\n",
        "\n",
        "**2. Inflation - 0.242806:**\n",
        "\n",
        "* **Second Most Significant Predictor:** Inflation also plays a substantial role in predicting home prices. As inflation rises, it can lead to higher home prices due to the increased cost of goods and services, including construction materials and labor.\n",
        "\n",
        "**3. Population - 0.042090:**\n",
        "\n",
        "* **Moderately Significant Predictor:** Population growth impacts demand for housing. As population increases, demand for homes typically rises, which can drive up prices.\n",
        "\n",
        "**4. Median Household Income - 0.005996:**\n",
        "\n",
        "* **Less Significant Predictor:** Median household income has some impact on home prices, reflecting that higher incomes can support higher home prices, but its influence is relatively small compared to GDP and inflation.\n",
        "\n",
        "**5. Unemployment Rate - 0.001133:**\n",
        "\n",
        "* **Minor Predictor:** The unemployment rate has a minimal effect on home prices in this model. While higher unemployment can reduce demand for housing, its impact is not as significant as other factors.\n",
        "\n",
        "**6. Interest Rates - 0.000382:**\n",
        "\n",
        "* **Negligible Predictor:** Interest rates have a very small importance score. While interest rates affect mortgage affordability and housing demand, other factors in this model appear to have a much stronger influence.\n",
        "\n",
        "**7. 30-Year Fixed Mortgage Rate - 0.000141:**\n",
        "\n",
        "* **Negligible Predictor:** Similar to general interest rates, the specific 30-year fixed mortgage rate has a minimal impact in this model.\n",
        "\n",
        "**8. Housing Starts - 0.000050:**\n",
        "\n",
        "* **Least Significant Predictor:** Housing starts, or the number of new residential construction projects, have the least influence on home prices in this model. This might be due to the lag between new constructions and their effect on the overall housing market.\n",
        "\n",
        "## Conclusion\n",
        "The feature importance analysis from the Random Forest model highlights that Gross Domestic Product (GDP) is the most significant predictor of home prices, followed by Inflation and Population. These factors have the greatest influence on home prices, whereas features like Interest Rates and Housing Starts have minimal impact in comparison. Understanding these relationships can help in making informed decisions about the housing market and predicting future trends."
      ],
      "metadata": {
        "id": "ykcO5WrP9AQS"
      }
    }
  ]
}